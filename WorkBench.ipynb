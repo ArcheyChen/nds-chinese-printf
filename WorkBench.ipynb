{
 "cells": [
  {
   "cell_type": "code",
   "execution_count": 51,
   "metadata": {},
   "outputs": [],
   "source": [
    "# pip3 install -r requirements.txt\n",
    "\n",
    "import freetype\n",
    "from PIL import Image, ImageDraw\n",
    "from io import StringIO\n",
    "import os"
   ]
  },
  {
   "cell_type": "code",
   "execution_count": null,
   "metadata": {},
   "outputs": [],
   "source": [
    "# Preset: 16x15\n",
    "face = freetype.Face('SourceHanSansSC-VF.otf')\n",
    "face.set_pixel_sizes(17,15)\n",
    "face.set_var_design_coords((300,))\n",
    "\n",
    "FB_W = 16\n",
    "FB_H = 15\n",
    "FB_W_HALF = FB_W // 2\n",
    "OUT_FILE_NAME = 'font16x15.4FN'\n"
   ]
  },
  {
   "cell_type": "code",
   "execution_count": 34,
   "metadata": {},
   "outputs": [],
   "source": [
    "# Preset: 12x12\n",
    "face = freetype.Face('SourceHanSansSC-VF.otf')\n",
    "face.set_pixel_sizes(12,12)\n",
    "face.set_var_design_coords((300,))\n",
    "\n",
    "FB_W = 12\n",
    "FB_H = 12\n",
    "FB_W_HALF = FB_W // 2\n",
    "OUT_FILE_NAME = 'font12x12.4FN'"
   ]
  },
  {
   "cell_type": "code",
   "execution_count": null,
   "metadata": {},
   "outputs": [],
   "source": [
    "# WQY_12X12\n",
    "face = freetype.Face('wqy-microhei.ttc')\n",
    "face.set_pixel_sizes(13,12)\n",
    "# face.set_var_design_coords((320,))\n",
    "\n",
    "FB_W = 12\n",
    "FB_H = 11\n",
    "FB_W_HALF = FB_W // 2\n",
    "OUT_FILE_NAME = 'font12x11.wqy.4FN'"
   ]
  },
  {
   "cell_type": "code",
   "execution_count": null,
   "metadata": {},
   "outputs": [],
   "source": [
    "# WQY_16X15\n",
    "face = freetype.Face('wqy-microhei.ttc')\n",
    "face.set_pixel_sizes(17,15)\n",
    "face.set_var_design_coords((300,))\n",
    "\n",
    "FB_W = 16\n",
    "FB_H = 15\n",
    "FB_W_HALF = FB_W // 2\n",
    "OUT_FILE_NAME = 'font16x15.wqy.4FN'"
   ]
  },
  {
   "cell_type": "code",
   "execution_count": 51,
   "metadata": {},
   "outputs": [],
   "source": [
    "# fusion\n",
    "face = freetype.Face('fusion-pixel-monospaced.ttf')\n",
    "face.set_pixel_sizes(12,12)\n",
    "# face.set_var_design_coords((400,))\n",
    "\n",
    "FB_W = 12\n",
    "FB_H = 12\n",
    "FB_W_HALF = FB_W // 2\n",
    "OUT_FILE_NAME = 'fusion-12px.4FN'"
   ]
  },
  {
   "cell_type": "code",
   "execution_count": 46,
   "metadata": {},
   "outputs": [],
   "source": [
    "# hzk\n",
    "face = freetype.Face('hzk-pixel-12px.ttf')\n",
    "face.set_pixel_sizes(12,12)\n",
    "# face.set_var_design_coords((400,))\n",
    "\n",
    "FB_W = 12\n",
    "FB_H = 12\n",
    "FB_W_HALF = FB_W // 2\n",
    "OUT_FILE_NAME = 'hzk-12px.4FN'"
   ]
  },
  {
   "cell_type": "code",
   "execution_count": 58,
   "metadata": {},
   "outputs": [],
   "source": [
    "# 微软雅黑\n",
    "face = freetype.Face('MSYHL.TTC')\n",
    "face.set_pixel_sizes(14,14)\n",
    "# face.set_var_design_coords((400,))\n",
    "\n",
    "FB_W = 14\n",
    "FB_H = 14\n",
    "FB_W_HALF = FB_W // 2\n",
    "OUT_FILE_NAME = 'msyh-12px.4FN'"
   ]
  },
  {
   "cell_type": "code",
   "execution_count": 116,
   "metadata": {},
   "outputs": [],
   "source": [
    "\n",
    "face = freetype.Face('zpix.ttf')\n",
    "face.set_pixel_sizes(12,12)\n",
    "# face.set_var_design_coords((400,))\n",
    "\n",
    "FB_W = 11\n",
    "FB_H = 11\n",
    "FB_W_HALF = FB_W // 2\n",
    "OUT_FILE_NAME = 'zpix.4FN'"
   ]
  },
  {
   "cell_type": "code",
   "execution_count": 117,
   "metadata": {
    "scrolled": false,
    "tags": []
   },
   "outputs": [
    {
     "name": "stdout",
     "output_type": "stream",
     "text": [
      "BMP_SIZE 22\n",
      "20902\n"
     ]
    }
   ],
   "source": [
    "# Define functions to draw the character\n",
    "\n",
    "HEADER_SIZE = 1\n",
    "BMP_ROW_SIZE = (FB_W - 1) // 8 + 1\n",
    "BMP_SIZE = BMP_ROW_SIZE * FB_H\n",
    "CHAR_DATA_SIZE = BMP_SIZE + HEADER_SIZE\n",
    "FONT_PAGE_SIZE = CHAR_DATA_SIZE * 256\n",
    "\n",
    "print('BMP_SIZE', BMP_SIZE)\n",
    "logData = StringIO()\n",
    "def log(str):\n",
    "    global logData\n",
    "    logData.write(str + '\\n')\n",
    "\n",
    "\n",
    "def checkWidthEnforcement(ch):\n",
    "    if (ch == ' '):\n",
    "        return FB_W_HALF\n",
    "    return 0\n",
    "\n",
    "def renderChar(ch):\n",
    "    face.load_char(ch, flags=freetype.FT_LOAD_TARGET_MONO | freetype.FT_LOAD_RENDER)\n",
    "    fb = [0] * (FB_W*FB_H)\n",
    "    g = face.glyph\n",
    "    offY = FB_H - max(g.bitmap_top, 0) - 1\n",
    "    offX = max(g.bitmap_left, 0)\n",
    "    b = g.bitmap\n",
    "    w = b.width\n",
    "    totalWidth = offX + w\n",
    "    fbWidth = min(FB_W, totalWidth)\n",
    "    if fbWidth <= 0:\n",
    "        fbWidth = 1\n",
    "    fbWidth = max(fbWidth, checkWidthEnforcement(ch))\n",
    "    h = b.rows\n",
    "    offY = min(offY, FB_H - h)\n",
    "    pitch = b.pitch\n",
    "    buf = b.buffer\n",
    "    t = 0\n",
    "    overflowCnt = 0\n",
    "    for cy in range(0, h):\n",
    "        for cx in range(0, w):\n",
    "            if (cx % 8 == 0):\n",
    "                t = buf[pitch * cy + cx // 8]\n",
    "            v = 0\n",
    "            if (t & 0x80):\n",
    "                v = 1\n",
    "            posX = offX + cx\n",
    "            posY = offY + cy\n",
    "            if (posX < 0) or (posX >= FB_W) or (posY < 0) or (posY >= FB_H):\n",
    "                overflowCnt += 1\n",
    "                if overflowCnt <= 2:\n",
    "                    log('overflow %d %d %s' % ( posX, posY, ch))\n",
    "            else:\n",
    "                fb[posX + posY * FB_W] = v\n",
    "            t <<= 1\n",
    "    return (fb, fbWidth)\n",
    "\n",
    "def printFB(fb, fbWidth):\n",
    "    ret = ''\n",
    "    for y in range(0, FB_H):\n",
    "        for x in range(0, fbWidth):\n",
    "            ret += ['.', '#'][fb[x + y * FB_W]]\n",
    "        ret += '\\n'\n",
    "    print(ret)\n",
    "    print(fbWidth)\n",
    "\n",
    "# Generate 4FN binary font file\n",
    "\n",
    "logData = StringIO()\n",
    "fontMagic = b'44Font0000000' + bytes([FB_W, FB_H, BMP_SIZE])\n",
    "fontIndex = [0xFF] * 256\n",
    "fontBuf = b''\n",
    "fontBufPtr = 0\n",
    "\n",
    "totCnt = 0\n",
    "# [(0x4E, 0x9F)]是中文的\n",
    "PLANES = [(0x4E, 0x9F)] #[(0, 0), (0x30, 0x30), ]\n",
    "for (l, r) in PLANES:\n",
    "    for p in range(l, l + r + 1):\n",
    "        validCharCount = 0\n",
    "        pageBuf = b''\n",
    "        for rune in range(p << 8, (p << 8) + 256):\n",
    "            header = 0\n",
    "            bmp = [0] * (BMP_SIZE)\n",
    "            if face.get_char_index(rune) != 0:\n",
    "                validCharCount += 1\n",
    "                totCnt += 1\n",
    "                log(chr(rune))\n",
    "            (fb, fbWidth) = renderChar(chr(rune))\n",
    "            header = fbWidth\n",
    "            for y in range(0, FB_H):\n",
    "                for x in range(0, FB_W):\n",
    "                    if fb[y * FB_W + x]:\n",
    "                        bmp[BMP_ROW_SIZE * y + (x // 8)] |= 1 << (x % 8)\n",
    "            pageBuf += bytes([header])\n",
    "            pageBuf += bytes(bmp)\n",
    "        log('0x%02x00 %d %d' % (p, validCharCount, len(pageBuf)))\n",
    "        if validCharCount == 0:\n",
    "            continue\n",
    "        fontIndex[p] = fontBufPtr\n",
    "        fontBuf += pageBuf\n",
    "        fontBufPtr += 1\n",
    "\n",
    "with open(OUT_FILE_NAME, 'wb') as f:\n",
    "    f.write(fontMagic)\n",
    "    f.write(bytes(fontIndex))\n",
    "    f.write(fontBuf)\n",
    "\n",
    "with open('log.txt', 'wb') as f:\n",
    "    f.write(logData.getvalue().encode('utf-8', 'ignore'))\n",
    "\n",
    "print(totCnt)"
   ]
  },
  {
   "cell_type": "code",
   "execution_count": 118,
   "metadata": {},
   "outputs": [
    {
     "name": "stdout",
     "output_type": "stream",
     "text": [
      ".....#.....\n",
      "###########\n",
      "#.........#\n",
      "#.........#\n",
      ".#########.\n",
      ".....#.....\n",
      ".....#.....\n",
      "###########\n",
      ".....#.....\n",
      ".....#.....\n",
      "...###.....\n",
      "\n",
      "11\n"
     ]
    }
   ],
   "source": [
    "# Print a character to console\n",
    "\n",
    "fb, fbWidth = renderChar('宇')\n",
    "\n",
    "printFB(fb, fbWidth)"
   ]
  },
  {
   "cell_type": "code",
   "execution_count": 119,
   "metadata": {},
   "outputs": [
    {
     "name": "stdout",
     "output_type": "stream",
     "text": [
      "471.765625\n"
     ]
    },
    {
     "data": {
      "image/png": "[encoded data removed]",
      "text/plain": [
       "<PIL.Image.Image image mode=RGB size=240x160>"
      ]
     },
     "execution_count": 119,
     "metadata": {},
     "output_type": "execute_result"
    }
   ],
   "source": [
    "# Draw a PNG test image\n",
    "\n",
    "txt = \"\"\"CJK字体测试。\n",
    "\n",
    "我能吞下玻璃而不伤身体。\n",
    "我能吞下玻璃而不傷身體。 \n",
    "私はガラスを食べられます。それは私を傷つけません。\n",
    "나는 유리를 먹을 수 있어요. 그래도 아프지 않아요\n",
    "1234567890!?？！：“”·。：\n",
    "abcdefghijklmnopqrstuvwxyz<>.?:\"|_+-=~`\n",
    "\"\"\"\n",
    "IMAGE_WIDTH = 240\n",
    "IMAGE_HIGHT = 160\n",
    "img = Image.new('RGB', (IMAGE_WIDTH,IMAGE_HIGHT), color='white')\n",
    "pixels = img.load()\n",
    "posX = 0\n",
    "posY = 0\n",
    "\n",
    "def drawFB(fb, fbWidth):\n",
    "    global posX, posY\n",
    "\n",
    "    if (posX + fbWidth >= IMAGE_WIDTH):\n",
    "        posX = 0\n",
    "        posY += FB_H + 1\n",
    "    for y in range(0, FB_H):\n",
    "        for x in range(0, fbWidth):\n",
    "            if fb[x + y * FB_W]:\n",
    "                pixels[posX + x, posY + y] = (0,0,0)\n",
    "    posX += fbWidth\n",
    "\n",
    "\n",
    "\n",
    "for ch in txt:\n",
    "    if (ch == '\\n'):\n",
    "        posX = 0\n",
    "        posY += FB_H + 1\n",
    "        continue\n",
    "    fb, fbWidth = renderChar(ch)\n",
    "    drawFB(fb, fbWidth)\n",
    "print(os.stat(OUT_FILE_NAME).st_size/1024)\n",
    "img"
   ]
  },
  {
   "cell_type": "code",
   "execution_count": 35,
   "metadata": {},
   "outputs": [
    {
     "data": {
      "image/png": "[encoded data removed]",
      "text/plain": [
       "<PIL.Image.Image image mode=RGB size=240x160>"
      ]
     },
     "execution_count": 35,
     "metadata": {},
     "output_type": "execute_result"
    }
   ],
   "source": [
    "\n",
    "img"
   ]
  },
  {
   "cell_type": "code",
   "execution_count": 41,
   "metadata": {},
   "outputs": [
    {
     "data": {
      "image/png": "[encoded data removed]",
      "text/plain": [
       "<PIL.Image.Image image mode=RGB size=240x160>"
      ]
     },
     "execution_count": 41,
     "metadata": {},
     "output_type": "execute_result"
    }
   ],
   "source": [
    "img"
   ]
  },
  {
   "cell_type": "code",
   "execution_count": null,
   "metadata": {},
   "outputs": [],
   "source": []
  }
 ],
 "metadata": {
  "kernelspec": {
   "display_name": "base",
   "language": "python",
   "name": "python3"
  },
  "language_info": {
   "codemirror_mode": {
    "name": "ipython",
    "version": 3
   },
   "file_extension": ".py",
   "mimetype": "text/x-python",
   "name": "python",
   "nbconvert_exporter": "python",
   "pygments_lexer": "ipython3",
   "version": "3.9.12"
  },
  "vscode": {
   "interpreter": {
    "hash": "4c2b8563932708ac4f64e3bc4797ea8eb43fc7530baa7f01daadf5b46d7b1fd4"
   }
  }
 },
 "nbformat": 4,
 "nbformat_minor": 2
}
